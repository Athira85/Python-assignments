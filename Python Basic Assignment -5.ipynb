{
 "cells": [
  {
   "cell_type": "markdown",
   "metadata": {},
   "source": [
    "#1. What does an empty dictionary's code look like?\n",
    "\n",
    "Ans. An empty dictonary looks like this, dict = {}"
   ]
  },
  {
   "cell_type": "markdown",
   "metadata": {},
   "source": [
    "#2. What is the value of a dictionary value with the key 'foo' and the value 42?\n",
    "\n",
    "ans. dict = {'foo': 42}\n"
   ]
  },
  {
   "cell_type": "markdown",
   "metadata": {},
   "source": [
    "#3. What is the most significant distinction between a dictionary and a list?\n",
    "\n",
    "Ans. A list is an ordered collection of elements and all elements are accessed by the index numbers. But in dictionary elements are in the form of key-value pairs, and it is unordered, which is accessible by the keys present in it.Represention of list and dictionary are l = [ ] and d ={ } respectively"
   ]
  },
  {
   "cell_type": "markdown",
   "metadata": {},
   "source": [
    "#4. What happens if you try to access spam['foo'] if spam is {'bar': 100}?\n",
    "\n",
    "spam = {'bar': 100}\n",
    "\n",
    "spam['foo']\n",
    "\n",
    "Ans. It will throw a KeyError: 'foo' bcs we do not have a key named'foo' in the given dictionary spam.\n"
   ]
  },
  {
   "cell_type": "markdown",
   "metadata": {},
   "source": [
    "#5. If a dictionary is stored in spam, what is the difference between the expressions 'cat' in spam and 'cat' in spam.keys()?\n",
    "\n",
    "Ans. Actually both are same.'cat' in spam checks if the key 'cat' is present in the dictionary, if yes, it will return True similary 'cat' in spam.keys() checks all the keys values and return True if it is present.\n"
   ]
  },
  {
   "cell_type": "markdown",
   "metadata": {},
   "source": [
    "6. If a dictionary is stored in spam, what is the difference between the expressions 'cat' in spam and 'cat' in spam.values()?\n",
    "\n",
    "Ans. 'cat' in spam checks if the key 'cat' is present in the dictionary and 'cat' in spam.values() checks if there is a value as 'cat' for any of the keys in spam dictionary."
   ]
  },
  {
   "cell_type": "markdown",
   "metadata": {},
   "source": [
    "#7. What is a shortcut for the following code?\n",
    "\n",
    "if 'color' not in spam:\n",
    "\n",
    "\n",
    "    spam['color'] = 'black'\n",
    "    \n",
    "Ans. spam.setdefault('color', 'black')\n"
   ]
  },
  {
   "cell_type": "markdown",
   "metadata": {},
   "source": [
    "#8. How do you \"pretty print\" dictionary values using which module and function?\n",
    "\n",
    "Ans. Pretty printing can be done using pprint()function of the pprint module, dumps() function of the json module and dump()function of the yaml module"
   ]
  },
  {
   "cell_type": "code",
   "execution_count": 5,
   "metadata": {},
   "outputs": [
    {
     "name": "stdout",
     "output_type": "stream",
     "text": [
      "printing using print()function [{'name': 'John Doe', 'age': 30, 'city': 'New York', 'interests': ['reading', 'hiking', 'coding']}, {'name': 'Athira', 'age': 27, 'city': 'Pathanmathitta', 'interests': ['reading', 'designing', 'coding']}, {'name': 'Aishu', 'age': 18, 'city': 'Eklm', 'interests': ['watching movies', 'dance', 'sleeping']}]\n",
      "--------------------------------------------------------------------------------------------------------------\n",
      "printing using pprint()function\n",
      "[{'age': 30,\n",
      "  'city': 'New York',\n",
      "  'interests': ['reading', 'hiking', 'coding'],\n",
      "  'name': 'John Doe'},\n",
      " {'age': 27,\n",
      "  'city': 'Pathanmathitta',\n",
      "  'interests': ['reading', 'designing', 'coding'],\n",
      "  'name': 'Athira'},\n",
      " {'age': 18,\n",
      "  'city': 'Eklm',\n",
      "  'interests': ['watching movies', 'dance', 'sleeping'],\n",
      "  'name': 'Aishu'}]\n",
      "--------------------------------------------------------------------------------------------------------------\n",
      "printing using json function\n",
      " [\n",
      "   {\n",
      "      \"name\": \"John Doe\",\n",
      "      \"age\": 30,\n",
      "      \"city\": \"New York\",\n",
      "      \"interests\": [\n",
      "         \"reading\",\n",
      "         \"hiking\",\n",
      "         \"coding\"\n",
      "      ]\n",
      "   },\n",
      "   {\n",
      "      \"name\": \"Athira\",\n",
      "      \"age\": 27,\n",
      "      \"city\": \"Pathanmathitta\",\n",
      "      \"interests\": [\n",
      "         \"reading\",\n",
      "         \"designing\",\n",
      "         \"coding\"\n",
      "      ]\n",
      "   },\n",
      "   {\n",
      "      \"name\": \"Aishu\",\n",
      "      \"age\": 18,\n",
      "      \"city\": \"Eklm\",\n",
      "      \"interests\": [\n",
      "         \"watching movies\",\n",
      "         \"dance\",\n",
      "         \"sleeping\"\n",
      "      ]\n",
      "   }\n",
      "]\n",
      "--------------------------------------------------------------------------------------------------------------\n",
      "Printing using dump() function\n",
      " - age: 30\n",
      "  city: New York\n",
      "  interests: [reading, hiking, coding]\n",
      "  name: John Doe\n",
      "- age: 27\n",
      "  city: Pathanmathitta\n",
      "  interests: [reading, designing, coding]\n",
      "  name: Athira\n",
      "- age: 18\n",
      "  city: Eklm\n",
      "  interests: [watching movies, dance, sleeping]\n",
      "  name: Aishu\n",
      "\n"
     ]
    }
   ],
   "source": [
    "my_dict = [{'name': 'John Doe','age': 30,'city': 'New York','interests': ['reading', 'hiking', 'coding']},\n",
    "           {'name': 'Athira','age':27  ,'city': 'Pathanmathitta','interests': ['reading', 'designing', 'coding']},\n",
    "           {'name': 'Aishu','age': 18,'city': 'Eklm','interests': ['watching movies', 'dance', 'sleeping']}]\n",
    "\n",
    "print('printing using print()function',my_dict)\n",
    "print('-'* 110)\n",
    "import pprint\n",
    "print('printing using pprint()function')\n",
    "pprint.pprint(my_dict)\n",
    "print('-'*110)\n",
    "import json\n",
    "dump = json.dumps(my_dict,indent=3)\n",
    "print('printing using json function\\n',dump)\n",
    "print('-'*110)\n",
    "import yaml\n",
    "dump = yaml.dump(my_dict)\n",
    "print('Printing using dump() function\\n',dump)"
   ]
  },
  {
   "cell_type": "code",
   "execution_count": null,
   "metadata": {},
   "outputs": [],
   "source": []
  }
 ],
 "metadata": {
  "kernelspec": {
   "display_name": "Python 3",
   "language": "python",
   "name": "python3"
  },
  "language_info": {
   "codemirror_mode": {
    "name": "ipython",
    "version": 3
   },
   "file_extension": ".py",
   "mimetype": "text/x-python",
   "name": "python",
   "nbconvert_exporter": "python",
   "pygments_lexer": "ipython3",
   "version": "3.7.0"
  }
 },
 "nbformat": 4,
 "nbformat_minor": 2
}
