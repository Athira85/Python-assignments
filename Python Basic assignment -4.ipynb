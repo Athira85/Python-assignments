{
 "cells": [
  {
   "cell_type": "markdown",
   "metadata": {},
   "source": [
    "1. What exactly is []?\n",
    "\n",
    "Ans.Generally this square bracket refers to a list. Here [] this refers to an empty list."
   ]
  },
  {
   "cell_type": "code",
   "execution_count": 1,
   "metadata": {},
   "outputs": [
    {
     "name": "stdout",
     "output_type": "stream",
     "text": [
      "[2, 4, 6, 8, 10]\n",
      "[2, 4, 'hello', 8, 10]\n"
     ]
    }
   ],
   "source": [
    "#2. In a list of values stored in a variable called spam, how would you assign the value 'hello' as the third value? (Assume [2, 4, 6, 8, 10] are in spam.)\n",
    "\n",
    "#Ans. spam[2] ='hello'(since list indexing starts at 0, 2 comes in the third position)\n",
    "\n",
    "spam = [2, 4, 6, 8, 10]\n",
    "print(spam)\n",
    "spam[2]='hello'\n",
    "print(spam)\n"
   ]
  },
  {
   "cell_type": "markdown",
   "metadata": {},
   "source": [
    "Let's pretend the spam includes the list ['a', 'b', 'c', 'd'] for the next three queries.\n",
    "3. What is the value of spam[int(int('3' * 2) / 11)]?\n",
    "\n",
    "Ans. d is the output because '3'*2 is '33' and int('33')/11 is 3.0, so int(3.0) is 3 therby spam[3] is d"
   ]
  },
  {
   "cell_type": "code",
   "execution_count": 2,
   "metadata": {},
   "outputs": [
    {
     "data": {
      "text/plain": [
       "'d'"
      ]
     },
     "execution_count": 2,
     "metadata": {},
     "output_type": "execute_result"
    }
   ],
   "source": [
    "spam = ['a', 'b', 'c', 'd']\n",
    "\n",
    "spam[int(int('3' * 2) / 11)]\n"
   ]
  },
  {
   "cell_type": "code",
   "execution_count": 6,
   "metadata": {},
   "outputs": [],
   "source": [
    "#4. What is the value of spam[-1]?"
   ]
  },
  {
   "cell_type": "code",
   "execution_count": 7,
   "metadata": {},
   "outputs": [
    {
     "data": {
      "text/plain": [
       "'d'"
      ]
     },
     "execution_count": 7,
     "metadata": {},
     "output_type": "execute_result"
    }
   ],
   "source": [
    "spam[-1]"
   ]
  },
  {
   "cell_type": "markdown",
   "metadata": {},
   "source": [
    "5. What is the value of spam[:2]?\n",
    "\n",
    "Ans. return all elements in the list except spam[2]"
   ]
  },
  {
   "cell_type": "code",
   "execution_count": 3,
   "metadata": {},
   "outputs": [
    {
     "data": {
      "text/plain": [
       "['a', 'b']"
      ]
     },
     "execution_count": 3,
     "metadata": {},
     "output_type": "execute_result"
    }
   ],
   "source": [
    "spam[:2]"
   ]
  },
  {
   "cell_type": "code",
   "execution_count": 4,
   "metadata": {},
   "outputs": [
    {
     "name": "stdout",
     "output_type": "stream",
     "text": [
      "1\n"
     ]
    }
   ],
   "source": [
    "#Let's pretend bacon has the list [3.14, 'cat', 11, 'cat',True] for the next three questions.\n",
    "#6. What is the value of bacon.index('cat')?\n",
    "\n",
    "bacon = [3.14, 'cat', 11, 'cat',True]\n",
    "print(bacon.index('cat'))\n",
    "\n",
    "#Since 'cat' has repeated twice here, the index function will return the index number where it occurred first."
   ]
  },
  {
   "cell_type": "code",
   "execution_count": 9,
   "metadata": {},
   "outputs": [
    {
     "name": "stdout",
     "output_type": "stream",
     "text": [
      "[3.14, 'cat', 11, 'cat', True, 99]\n"
     ]
    }
   ],
   "source": [
    "#7.How does bacon.append(99) change the look of the list value in bacon?\n",
    "bacon = [3.14, 'cat', 11, 'cat',True]\n",
    "bacon.append(99)\n",
    "print(bacon)\n",
    "\n",
    "#The append method added the value 99 at the end of the list"
   ]
  },
  {
   "cell_type": "code",
   "execution_count": 10,
   "metadata": {},
   "outputs": [
    {
     "name": "stdout",
     "output_type": "stream",
     "text": [
      "[3.14, 11, 'cat', True]\n"
     ]
    }
   ],
   "source": [
    "#8. How does bacon.remove('cat') change the look of the list in bacon?\n",
    "bacon = [3.14, 'cat', 11, 'cat',True]\n",
    "bacon.remove('cat')\n",
    "print(bacon)\n",
    "\n",
    "#Here the cat occurred in the first place got removed by the remove method.Now we have only the 2nd cat here"
   ]
  },
  {
   "cell_type": "code",
   "execution_count": 12,
   "metadata": {},
   "outputs": [
    {
     "name": "stdout",
     "output_type": "stream",
     "text": [
      "['Maroon', 12, 'Apple', 'Brown', 34, 'Coconut', False]\n",
      "['Maroon', 12, 'Apple', 'Maroon', 12, 'Apple', 'Maroon', 12, 'Apple']\n"
     ]
    }
   ],
   "source": [
    "#9. What are the list concatenation and list replication operators?\n",
    "#Taking 2 sample lists\n",
    "L1 = [\"Maroon\", 12,'Apple']\n",
    "L2 = [\"Brown\", 34, \"Coconut\", False]\n",
    "#List concatenation is the process of joining multiple list together \n",
    "print(L1+L2)\n",
    "#List replication is the process of making exact copies of the list as many times as we need\n",
    "print(L1*3)"
   ]
  },
  {
   "cell_type": "code",
   "execution_count": 1,
   "metadata": {},
   "outputs": [
    {
     "name": "stdout",
     "output_type": "stream",
     "text": [
      "[3.14, 'cat', 11, 'cat', True]\n",
      "[3.14, 'cat', 11, 'cat', True, False]\n",
      "[3.14, 'cat', 11, 'cat', 'Watermelon', True, False]\n"
     ]
    }
   ],
   "source": [
    "#10. What is difference between the list methods append() and insert()?\n",
    "bacon =  [3.14, 'cat', 11, 'cat', True] \n",
    "print(bacon)\n",
    "bacon.append(False)\n",
    "print(bacon)\n",
    "bacon.insert(4,\"Watermelon\")\n",
    "print(bacon)\n",
    "\n",
    "# So append method can be used to insert an element in the end of the list and insert method can be used to append a value wherever we wnat in the list "
   ]
  },
  {
   "cell_type": "markdown",
   "metadata": {},
   "source": [
    "#11. What are the two methods for removing items from a list?\n",
    "\n",
    "Ans. We can use methods like remove()and pop()for deleting items from a list."
   ]
  },
  {
   "cell_type": "markdown",
   "metadata": {},
   "source": [
    "#12. Describe how list values and string values are identical.\n",
    "\n",
    "Ans. We can apply len() function, for loop, in and both of them can be concatenated and replicated."
   ]
  },
  {
   "cell_type": "code",
   "execution_count": 2,
   "metadata": {},
   "outputs": [
    {
     "name": "stdout",
     "output_type": "stream",
     "text": [
      "<class 'int'>\n",
      "<class 'tuple'>\n"
     ]
    }
   ],
   "source": [
    "#14. How do you type a tuple value that only contains the integer 42?\n",
    "\n",
    "tuple1 = (42)\n",
    "tuple2 = (42,42)\n",
    "print(type(tuple1))\n",
    "print(type(tuple2))"
   ]
  },
  {
   "cell_type": "markdown",
   "metadata": {},
   "source": [
    "# 13.What's the difference between tuples and lists?\n",
    "\n",
    "Ans. List object is mutable, indexable and slicable sequence where as a tuple is immutable but can be indexed and sliced sequence.Tuple elements are generally enclosed in paranthesis() and list objects are represented by sqaure brackets []."
   ]
  },
  {
   "cell_type": "markdown",
   "metadata": {},
   "source": [
    "# 15. How do you get a list value's tuple form? How do you get a tuple value's list form?\n",
    "\n",
    "And. We have to use tuple() and list() functions to covert the entities respectively."
   ]
  },
  {
   "cell_type": "markdown",
   "metadata": {},
   "source": [
    "# 16. Variables that \"contain\" list values are not necessarily lists themselves. Instead, what do they contain?\n",
    "\n",
    "Ans. Variables need references to list values\n"
   ]
  },
  {
   "cell_type": "markdown",
   "metadata": {},
   "source": [
    "# 17. How do you distinguish between copy.copy() and copy.deepcopy()?\n",
    "\n",
    "Ans.In copy.copy(), a copy of the original object is stored and only the reference address is finally copied. In Deep copy, the copy of the original object and the repetitive copies both are stored.\n"
   ]
  },
  {
   "cell_type": "code",
   "execution_count": null,
   "metadata": {},
   "outputs": [],
   "source": []
  }
 ],
 "metadata": {
  "kernelspec": {
   "display_name": "Python 3",
   "language": "python",
   "name": "python3"
  },
  "language_info": {
   "codemirror_mode": {
    "name": "ipython",
    "version": 3
   },
   "file_extension": ".py",
   "mimetype": "text/x-python",
   "name": "python",
   "nbconvert_exporter": "python",
   "pygments_lexer": "ipython3",
   "version": "3.7.0"
  }
 },
 "nbformat": 4,
 "nbformat_minor": 2
}
